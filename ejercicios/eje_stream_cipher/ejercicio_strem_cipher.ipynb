{
 "cells": [
  {
   "cell_type": "markdown",
   "metadata": {},
   "source": [
    "# Ejercicio Stream Cipher\n",
    "\n",
    "Diego Andrés Morales Aquino - 21762"
   ]
  },
  {
   "cell_type": "code",
   "execution_count": 231,
   "metadata": {},
   "outputs": [],
   "source": [
    "def bytes_str(data):\n",
    "    return ''.join(f'{byte:08b}' for byte in data)\n",
    "    \n",
    "def print_bin(data):\n",
    "    print(bytes_str(data))"
   ]
  },
  {
   "cell_type": "markdown",
   "metadata": {},
   "source": [
    "## 1. Generación de Keystream"
   ]
  },
  {
   "cell_type": "code",
   "execution_count": 232,
   "metadata": {},
   "outputs": [],
   "source": [
    "def linear_congruential_gen(seed, a, c, m):\n",
    "    \"\"\"\n",
    "    Generador de números aleatorios: generador congruencial lineal\n",
    "    https://www.geeksforgeeks.org/pseudo-random-number-generator-prng/\n",
    "    \"\"\"\n",
    "\n",
    "    if not (0 <= seed < m and 0 < a < m and 0 <= c < m and m > 0):\n",
    "        raise ValueError(\"Parámetros inválidos: deben cumplir 0 ≤ seed < m, 0 < a < m, 0 ≤ c < m, m > 0\")\n",
    "\n",
    "    \n",
    "    # Generar números aleatorios: Xn+1 = (a * Xn + c) mod m\n",
    "    return (a * seed + c) % m\n"
   ]
  },
  {
   "cell_type": "code",
   "execution_count": 233,
   "metadata": {},
   "outputs": [
    {
     "name": "stdout",
     "output_type": "stream",
     "text": [
      "1083814273\n",
      "379334258\n",
      "637876145\n",
      "791926961\n",
      "1941559326\n",
      "1140840309\n",
      "717226111\n",
      "1959858023\n",
      "2018898833\n",
      "1629026422\n"
     ]
    }
   ],
   "source": [
    "# Ejemplo de generación de números aleatorios\n",
    "\n",
    "m = 2**31 - 1\n",
    "a = 1664525\n",
    "c = 1013904223\n",
    "seed = 42\n",
    "\n",
    "for i in range(10):\n",
    "    seed = linear_congruential_gen(seed, a, c, m)\n",
    "    print(seed)\n"
   ]
  },
  {
   "cell_type": "code",
   "execution_count": 234,
   "metadata": {},
   "outputs": [],
   "source": [
    "def generate_keystream(seed, n_bytes):\n",
    "    \"\"\"\n",
    "    Generar secuencia de bytes pseudoaleatorios\n",
    "    \"\"\"\n",
    "    rand = seed\n",
    "    keystream = []\n",
    "\n",
    "    # Establecere parametros a, c y m por defecto\n",
    "    m = 2**31 - 1\n",
    "    a = 1664525\n",
    "    c = 1013904223\n",
    "    \n",
    "    for _ in range(n_bytes):\n",
    "        rand = linear_congruential_gen(rand, a, c, m)\n",
    "        keystream.append(rand % 256)\n",
    "    \n",
    "    return bytes(keystream)"
   ]
  },
  {
   "cell_type": "code",
   "execution_count": 235,
   "metadata": {},
   "outputs": [
    {
     "name": "stdout",
     "output_type": "stream",
     "text": [
      "10000001011100101011000110110001000111100111010101111111011001111001000101110110\n"
     ]
    }
   ],
   "source": [
    "# Ejemplo de generación de keystreams pseudoaleatorios\n",
    "\n",
    "seed = 42\n",
    "\n",
    "keystream = generate_keystream(seed, 10)\n",
    "print_bin(keystream) # Mostrar keystream en binario"
   ]
  },
  {
   "cell_type": "markdown",
   "metadata": {},
   "source": [
    "## 2. Cifrado"
   ]
  },
  {
   "cell_type": "code",
   "execution_count": 236,
   "metadata": {},
   "outputs": [],
   "source": [
    "def cypher(original_text, seed):\n",
    "    \"\"\"\n",
    "    Cifrado: texto XOR keystream\n",
    "    \"\"\"\n",
    "    data_bytes = original_text.encode('utf-8')\n",
    "    \n",
    "    keystream = generate_keystream(seed, len(data_bytes))\n",
    "    return bytes([d ^ k for d, k in zip(data_bytes, keystream)])"
   ]
  },
  {
   "cell_type": "code",
   "execution_count": 237,
   "metadata": {},
   "outputs": [
    {
     "name": "stdout",
     "output_type": "stream",
     "text": [
      "seed:  42\n",
      "Texto original:  Diego Morales, 21762\n",
      "Texto cifrado: \n",
      "(Bytes):  b'\\xc5\\x1b\\xd4\\xd6qU2\\x08\\xe3\\x17\\xcbX\\x13P*/ Ol\\x0c'\n",
      "(Binario):  1100010100011011110101001101011001110001010101010011001000001000111000110001011111001011010110000001001101010000001010100010111100100000010011110110110000001100\n"
     ]
    }
   ],
   "source": [
    "# Ejemplo de cifrado\n",
    "seed = 42\n",
    "text = \"Diego Morales, 21762\"\n",
    "text_cypher_bin = cypher(text, seed)\n",
    "print(\"seed: \", seed)\n",
    "print(\"Texto original: \", text)\n",
    "print(\"Texto cifrado: \")\n",
    "print(\"(Bytes): \", text_cypher_bin)\n",
    "print(\"(Binario): \", bytes_str(text_cypher_bin))"
   ]
  },
  {
   "cell_type": "markdown",
   "metadata": {},
   "source": [
    "## 3. Descifrado"
   ]
  },
  {
   "cell_type": "code",
   "execution_count": 238,
   "metadata": {},
   "outputs": [],
   "source": [
    "def decypher(data_bytes, seed):\n",
    "    \"\"\"\n",
    "    Descifrado: texto_cifrado XOR keystream\n",
    "    \"\"\"\n",
    "    if not isinstance(data_bytes, bytes):\n",
    "        raise ValueError(\"data debe ser de tipo bytes y no de tipo {}\".format(type(data_bytes)))\n",
    "    \n",
    "    keystream = generate_keystream(seed, len(data_bytes))\n",
    "    decypher_bytes = bytes([d ^ k for d, k in zip(data_bytes, keystream)])\n",
    "\n",
    "    # Remover el padding (bytes nulos al final) solo si fue agregado\n",
    "    if len(decypher_bytes) % 8 == 0:\n",
    "        decypher_bytes = decypher_bytes.rstrip(b'\\\\x00')\n",
    "    \n",
    "    return decypher_bytes.decode('utf-8')\n"
   ]
  },
  {
   "cell_type": "code",
   "execution_count": 239,
   "metadata": {},
   "outputs": [
    {
     "name": "stdout",
     "output_type": "stream",
     "text": [
      "seed:  42\n",
      "Texto descifrado:  Diego Morales, 21762\n"
     ]
    }
   ],
   "source": [
    "# Ejemplo de descifrado\n",
    "\n",
    "seed = 42\n",
    "\n",
    "text_decypher = decypher(text_cypher_bin, seed)\n",
    "print(\"seed: \", seed)\n",
    "print(\"Texto descifrado: \", text_decypher)"
   ]
  },
  {
   "cell_type": "markdown",
   "metadata": {},
   "source": [
    "## Preguntas"
   ]
  },
  {
   "cell_type": "markdown",
   "metadata": {},
   "source": [
    "**¿Qué sucede cuando cambias la clave utilizada para generar el keystream?**\n",
    "\n",
    "Cuando se cambia la clave (semilla) utilizada para generar el keystream, se está alterando la secuencia de números pseudoaleatorios que se utilizó para construir cada uno de los bytes de un keystream dado. Por ejemplo, para una semillas X, se generaron los número pseudoaleatorios X+1, x+2, ... x+n. Dichos números fueron utilizados para construir el keystream de n bytes. Sin embargo, si la clave (semilla) inicial es modificada por un número Y diferente de X, la secuencia de números Y+1, Y+2, ..., Y+n será diferente a la secuencia anterior (al menos en la mayoría de ocasiones), por lo que se obtendrá un keystream distinto. \n",
    "\n",
    "En consecuencia, al obtener un keystream distinto, al aplicar la operación XOR con el mensaje cifrado, no será posible obtener el mensaje original(en la mayoria de los casos)."
   ]
  },
  {
   "cell_type": "markdown",
   "metadata": {},
   "source": [
    "**¿Qué riesgos de seguridad existen si reutilizas el mismo keystream para cifrar dos mensajes diferentes?**\n",
    "\n",
    "Cuando se tiene dos mensajes cifrados con el mismo keystream, existe una gran vulnerabilidad que permite descifrar el mensaje sin la necesidad de conocer el keystream con el cual fueron cifrados. Esto se debe a la propiedad de XOR:\n",
    "\n",
    "msg_cifrado_1 XOR msg_cifrado_1 = (msg_1 XOR keystream) XOR (msg_2 XOR keystream)\n",
    "\n",
    "Lo cual equivale a:\n",
    "\n",
    "msg_cifrado_1 XOR msg_cifrado_2 = msg_1 XOR msg_2\n",
    "\n",
    "Esto quiere decir que, si se tienen dos mensajes cifrados con el mismo keystream y se les aplica una operación XOR, el resultado será equivalente a un XOR entre los mensajes originales. Esto significa que, si se conoce uno de los mensajes originales, al aplicar XOR con el resultado obtenido, es posible descifrar el otro mensaje sin necesidad de conocer el keystream.\n",
    "\n",
    "\n",
    "Fuente: http://www.crypto-it.net/eng/attacks/two-time-pad.html\n",
    "\n"
   ]
  },
  {
   "cell_type": "markdown",
   "metadata": {},
   "source": [
    "**¿Cómo afecta la longitud del keystream a la seguridad del cifrado?**\n",
    "\n",
    "Mientras mayor sea la longitud del keystream, se requerirá una mayor cantidad de números aleatorios para su generación, lo que reduce la probabilidad de patrones repetitivos o ciclos predecibles en la secuencia. Además, un keystream lo suficientemente largo, posee una mayor cantidad de combinaciones posibles, lo cual dificulta su predicción por parte de un atacante y fortalece la seguridad del cifrado.\n",
    "\n",
    "Por otro lado, si el keystream es demasiado corto, corre el riesgo de repetirse al cifrar múltiples mensajes y poder descifrar mensajes como se mostró anteriormente. Así como, un keystream corto es más fácil de predecir, pues se reduce la cantidad de posibles combinaciones."
   ]
  },
  {
   "cell_type": "markdown",
   "metadata": {},
   "source": [
    "**¿Qué consideraciones debes tener al generar un keystream en un entorno real?**\n",
    "\n",
    "Para aumentar la seguridad y confiabilidad del cifrado en un entorno real, es necesario garantizar un alto grado de aleatoriedad y entropía en el keystream utilizado. Esto para evitar patrones predecibles o keystreams fáciles de encontrar. \n",
    "\n",
    "Por otro lado, es importante que la longitud de bits del keystream coincida con el mensaje que se está cifrando, o que este sea lo suficientemente largo para que no se tenga que repetir. Si se opta por repetir el keystream, se podría abrir una vulnerabilidad como la mencionada anteriormente, con 2 mensajes parciales cifrados con una misma key.\n",
    "\n",
    "Además, es importante que la clave utilizada para generar el keystream (en este caso la semilla) sea única y esté protegida para evitar su exposición. Debe ser almacenada de manera segura y transmitida solo a través de canales cifrados."
   ]
  },
  {
   "cell_type": "markdown",
   "metadata": {},
   "source": [
    "## Ejemplos y pruebas unitarias"
   ]
  },
  {
   "cell_type": "code",
   "execution_count": 240,
   "metadata": {},
   "outputs": [
    {
     "name": "stdout",
     "output_type": "stream",
     "text": [
      "Seed: 53 \n",
      "Texto: Pachón morado con agua.\n",
      "Texto cifrado:\n",
      "(Bytes)  b'@D\\x17\\xb3\\xf2\\xcaO\\x03\\xf2\\x07h\\xbb\\xc7\\x8b\\x05\\xe01\\x8f\\x97\\xe8Y~r\\x91'\n",
      "(Bits)  010000000100010000010111101100111111001011001010010011110000001111110010000001110110100010111011110001111000101100000101111000000011000110001111100101111110100001011001011111100111001010010001\n",
      "Test de cifrado exitoso\n",
      "\n",
      "Texto descifrado:  Pachón morado con agua.\n",
      "Test de descifrado exitoso\n"
     ]
    }
   ],
   "source": [
    "seed = 53\n",
    "text = \"Pachón morado con agua.\"\n",
    "\n",
    "text_cypher_bin = cypher(text, seed)\n",
    "print(\"Seed:\", seed, \"\\nTexto:\", text)\n",
    "print(\"Texto cifrado:\")\n",
    "print(\"(Bytes) \",text_cypher_bin)\n",
    "print(\"(Bits) \", bytes_str(text_cypher_bin))\n",
    "\n",
    "if text_cypher_bin != b'@D\\x17\\xb3\\xf2\\xcaO\\x03\\xf2\\x07h\\xbb\\xc7\\x8b\\x05\\xe01\\x8f\\x97\\xe8Y~r\\x91':\n",
    "    raise ValueError(\"Error en el cifrado\")\n",
    "\n",
    "print(\"Test de cifrado exitoso\")\n",
    "\n",
    "text_decypher = decypher(text_cypher_bin, seed)\n",
    "print(\"\\nTexto descifrado: \", text_decypher)\n",
    "if text_decypher != text:\n",
    "    raise ValueError(\"El texto descifrado no coincide con el texto original\")\n",
    "\n",
    "print(\"Test de descifrado exitoso\")\n"
   ]
  },
  {
   "cell_type": "code",
   "execution_count": 241,
   "metadata": {},
   "outputs": [
    {
     "name": "stdout",
     "output_type": "stream",
     "text": [
      "Seed: 6598 \n",
      "Texto: Atacar al amanecer. ¡Viva la revolución!\n",
      "Texto cifrado:\n",
      "(Bytes)  b'3_\\xb2\\xd6\\x8a\\xb3\\xcb\\x04\\xa7\\x90>\\xacrtuC\\x84\\x1d;\\x92\\xe1(\\xf7oB\\x01\\x8a\\xb7s\\xba\\xcf\\x1b+\\xe5\\xd0\\x91\\xa9#\\xfa<tP'\n",
      "(Bits)  001100110101111110110010110101101000101010110011110010110000010010100111100100000011111010101100011100100111010001110101010000111000010000011101001110111001001011100001001010001111011101101111010000100000000110001010101101110111001110111010110011110001101100101011111001011101000010010001101010010010001111111010001111000111010001010000\n",
      "Test de cifrado exitoso\n",
      "\n",
      "Texto descifrado:  Atacar al amanecer. ¡Viva la revolución!\n",
      "Test de descifrado exitoso\n"
     ]
    }
   ],
   "source": [
    "seed = 6598\n",
    "text = \"Atacar al amanecer. ¡Viva la revolución!\"\n",
    "text_cypher_bin = cypher(text, seed)\n",
    "print(\"Seed:\", seed, \"\\nTexto:\", text)\n",
    "print(\"Texto cifrado:\")\n",
    "print(\"(Bytes) \",text_cypher_bin)\n",
    "print(\"(Bits) \", bytes_str(text_cypher_bin))\n",
    "\n",
    "if text_cypher_bin != b'3_\\xb2\\xd6\\x8a\\xb3\\xcb\\x04\\xa7\\x90>\\xacrtuC\\x84\\x1d;\\x92\\xe1(\\xf7oB\\x01\\x8a\\xb7s\\xba\\xcf\\x1b+\\xe5\\xd0\\x91\\xa9#\\xfa<tP':\n",
    "    raise ValueError(\"Error en el cifrado\")\n",
    "\n",
    "print(\"Test de cifrado exitoso\")\n",
    "\n",
    "text_decypher = decypher(text_cypher_bin, seed)\n",
    "print(\"\\nTexto descifrado: \", text_decypher)\n",
    "if text_decypher != text:\n",
    "    raise ValueError(\"El texto descifrado no coincide con el texto original\")\n",
    "\n",
    "print(\"Test de descifrado exitoso\")"
   ]
  },
  {
   "cell_type": "markdown",
   "metadata": {},
   "source": [
    "### Descifrado"
   ]
  },
  {
   "cell_type": "code",
   "execution_count": 242,
   "metadata": {},
   "outputs": [
    {
     "name": "stdout",
     "output_type": "stream",
     "text": [
      "Seed: 53\n",
      "Texto descifrado: Pachón morado con agua.\n",
      "Test de descifrado indirecto exitoso\n"
     ]
    }
   ],
   "source": [
    "text_cypher_bin = b'@D\\x17\\xb3\\xf2\\xcaO\\x03\\xf2\\x07h\\xbb\\xc7\\x8b\\x05\\xe01\\x8f\\x97\\xe8Y~r\\x91'\n",
    "seed = 53\n",
    "\n",
    "text_decypher = decypher(text_cypher_bin, seed)\n",
    "print(\"Seed:\", seed)\n",
    "print(\"Texto descifrado:\", text_decypher)\n",
    "\n",
    "if text_decypher != \"Pachón morado con agua.\":\n",
    "    raise ValueError(\"Error en el descifrado\")\n",
    "\n",
    "print(\"Test de descifrado indirecto exitoso\")"
   ]
  },
  {
   "cell_type": "code",
   "execution_count": 243,
   "metadata": {},
   "outputs": [
    {
     "name": "stdout",
     "output_type": "stream",
     "text": [
      "Seed: 6598\n",
      "Texto descifrado: Atacar al amanecer. ¡Viva la revolución!\n",
      "Test de descifrado indirecto exitoso\n"
     ]
    }
   ],
   "source": [
    "text_cypher_bin = b'3_\\xb2\\xd6\\x8a\\xb3\\xcb\\x04\\xa7\\x90>\\xacrtuC\\x84\\x1d;\\x92\\xe1(\\xf7oB\\x01\\x8a\\xb7s\\xba\\xcf\\x1b+\\xe5\\xd0\\x91\\xa9#\\xfa<tP'\n",
    "seed = 6598\n",
    "\n",
    "text_decypher = decypher(text_cypher_bin, seed)\n",
    "print(\"Seed:\", seed)\n",
    "print(\"Texto descifrado:\", text_decypher)\n",
    "\n",
    "if text_decypher != \"Atacar al amanecer. ¡Viva la revolución!\":\n",
    "    raise ValueError(\"Error en el descifrado\")\n",
    "\n",
    "print(\"Test de descifrado indirecto exitoso\")"
   ]
  },
  {
   "cell_type": "markdown",
   "metadata": {},
   "source": [
    "## Reflexiona sobre las limitaciones de los generadores pseudoaleatorios simples en la seguridad de cifrados reales.\n",
    "\n",
    "Tal y como se realizó en el ejercicio, el sistema de cifrado está basado principalmente en la aleatoriedad de las keystreams. Sin embargo, dado que estos algoritmos de generación de números pseudoaleatorios son deterministas, basta con conocer la semilla del generador para poder producir toda la secuencia de números y hallar la clave en cuestión. \n",
    "\n",
    "Por otro lado, si el algoritmo no es lo suficientemente robusto, puede tener ciclos predecibles o una entropía limitada. Por ejemplo, en el algoritmo implementado de congruencia lineal, dependiendo de los parámetros elegidos, el algoritmo sigue una secuencia ascendente hasta llegar al límite, así como, si el rango no era lo suficientemente amplio, podía generarse siempre la misma secuencia de números en un ciclo, lo cual resultaría en una cadena con un bajo nivel de aleatoriedad y por lo tanto, más vulnerable a ataques. De la misma forma, al depender de parámetros fijos o simples transformaciones matemáticas, generan secuencias con poca variabilidad. Esto puede hacer que la secuencia generada sea relativamente fácil de adivinar o correlacionar \n",
    "\n",
    "De manera que, es de gran importancia utilizar otro tipo de algoritmos que proporcionen una mejor resistencia contra la predicción, fuerza bruta, ciclos y ataques de análisis estadístico, asegurando una mayor complejidad, aleatoriedad e impredecibilidad en la generación de claves."
   ]
  }
 ],
 "metadata": {
  "kernelspec": {
   "display_name": "Python 3",
   "language": "python",
   "name": "python3"
  },
  "language_info": {
   "codemirror_mode": {
    "name": "ipython",
    "version": 3
   },
   "file_extension": ".py",
   "mimetype": "text/x-python",
   "name": "python",
   "nbconvert_exporter": "python",
   "pygments_lexer": "ipython3",
   "version": "3.13.1"
  }
 },
 "nbformat": 4,
 "nbformat_minor": 2
}
