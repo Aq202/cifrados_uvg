{
 "cells": [
  {
   "cell_type": "markdown",
   "metadata": {},
   "source": [
    "# Ejemplos de ejecución"
   ]
  },
  {
   "cell_type": "code",
   "execution_count": 13,
   "metadata": {},
   "outputs": [],
   "source": [
    "from ascii_to_binary import *\n",
    "from base64_to_ascii import *\n",
    "from base64_to_binary import *\n",
    "from binary_to_ascii import *\n",
    "from binary_to_base64 import *\n",
    "from xor import *\n",
    "from cypher import *"
   ]
  },
  {
   "cell_type": "markdown",
   "metadata": {},
   "source": [
    "## Ascii a binario y binario a Ascii"
   ]
  },
  {
   "cell_type": "code",
   "execution_count": 3,
   "metadata": {},
   "outputs": [
    {
     "name": "stdout",
     "output_type": "stream",
     "text": [
      "Texto en binario:  011001010111001101110100011001010010000001100101011100110010000001110101011011100010000001101101011001010110111001110011011000010110101001100101001000000110111001110101011001010111011001101111\n"
     ]
    }
   ],
   "source": [
    "text = \"este es un mensaje nuevo\"\n",
    "text_binary = text_to_binary(text)\n",
    "print(\"Texto en binario: \", text_binary)"
   ]
  },
  {
   "cell_type": "code",
   "execution_count": 4,
   "metadata": {},
   "outputs": [
    {
     "name": "stdout",
     "output_type": "stream",
     "text": [
      "Texto original:  este es un mensaje nuevo\n"
     ]
    }
   ],
   "source": [
    "text_orig = binary_to_text(text_binary)\n",
    "print(\"Texto original: \", text_orig)"
   ]
  },
  {
   "cell_type": "markdown",
   "metadata": {},
   "source": [
    "## Base 64 a binario y binario a Base 64"
   ]
  },
  {
   "cell_type": "code",
   "execution_count": 5,
   "metadata": {},
   "outputs": [
    {
     "name": "stdout",
     "output_type": "stream",
     "text": [
      "Texto en binario:  01100001011000100110001101100100\n"
     ]
    }
   ],
   "source": [
    "base64_text = \"YWJjZA==\"\n",
    "binary_text = base64_to_binary(base64_text)\n",
    "print(\"Texto en binario: \", binary_text)"
   ]
  },
  {
   "cell_type": "code",
   "execution_count": 6,
   "metadata": {},
   "outputs": [
    {
     "name": "stdout",
     "output_type": "stream",
     "text": [
      "Texto original en base 64: YWJjZA==\n"
     ]
    }
   ],
   "source": [
    "base64_orig_text = binary_to_base64(binary_text)\n",
    "print(\"Texto original en base 64:\", base64_orig_text)"
   ]
  },
  {
   "cell_type": "markdown",
   "metadata": {},
   "source": [
    "## Base64 a Ascii"
   ]
  },
  {
   "cell_type": "code",
   "execution_count": 8,
   "metadata": {},
   "outputs": [
    {
     "name": "stdout",
     "output_type": "stream",
     "text": [
      "Texto en base64:  RXN0ZSBlcyB1biB0ZXh0byBlbiBmb3JtYXRvIGJhc2UgNjQ=\n"
     ]
    }
   ],
   "source": [
    "# Obtener texto en base 64\n",
    "text = \"Este es un texto en formato base 64\"\n",
    "text_bin = text_to_binary(text)\n",
    "text_base64 = binary_to_base64(text_bin)\n",
    "print(\"Texto en base64: \", text_base64)"
   ]
  },
  {
   "cell_type": "code",
   "execution_count": 9,
   "metadata": {},
   "outputs": [
    {
     "name": "stdout",
     "output_type": "stream",
     "text": [
      "Texto original:  Este es un texto en formato base 64\n"
     ]
    }
   ],
   "source": [
    "# Convertir base64 a ASCII\n",
    "orig_text = base64_to_text(text_base64)\n",
    "print(\"Texto original: \", orig_text)"
   ]
  },
  {
   "cell_type": "markdown",
   "metadata": {},
   "source": [
    "## XOR"
   ]
  },
  {
   "cell_type": "code",
   "execution_count": 12,
   "metadata": {},
   "outputs": [
    {
     "name": "stdout",
     "output_type": "stream",
     "text": [
      "Xor:  1111000110110\n"
     ]
    }
   ],
   "source": [
    "bin1 = \"0010111101001\"\n",
    "bin2 = \"1101111011111\"\n",
    "xor = xor_binary_strings(bin1, bin2)\n",
    "print(\"Xor: \", xor)"
   ]
  },
  {
   "cell_type": "markdown",
   "metadata": {},
   "source": [
    "## Cifrado"
   ]
  },
  {
   "cell_type": "markdown",
   "metadata": {},
   "source": [
    "### Generar llave dinámica"
   ]
  },
  {
   "cell_type": "code",
   "execution_count": 14,
   "metadata": {},
   "outputs": [
    {
     "name": "stdout",
     "output_type": "stream",
     "text": [
      "Llave dinámica:  2EY647Jsa1FszKS\n"
     ]
    }
   ],
   "source": [
    "print(\"Llave dinámica: \", generate_dynamic_key(n= 15))"
   ]
  },
  {
   "cell_type": "markdown",
   "metadata": {},
   "source": [
    "### Cifrado estático"
   ]
  },
  {
   "cell_type": "code",
   "execution_count": 17,
   "metadata": {},
   "outputs": [
    {
     "name": "stdout",
     "output_type": "stream",
     "text": [
      "Texto cifrado:  8\n",
      "\u001e\u0013O\u0011E\u0006\u001d\u000b\u001f\u0016\n"
     ]
    }
   ],
   "source": [
    "key = \"perro\"\n",
    "text = \"Hola a todos\"\n",
    "cypher_text = fixed_key_cypher(key, text)\n",
    "print(\"Texto cifrado: \", cypher_text)"
   ]
  },
  {
   "cell_type": "code",
   "execution_count": 16,
   "metadata": {},
   "outputs": [
    {
     "name": "stdout",
     "output_type": "stream",
     "text": [
      "Texto descifrado:  Hola a todos\n"
     ]
    }
   ],
   "source": [
    "print(\"Texto descifrado: \", decypher(key, cypher_text))"
   ]
  },
  {
   "cell_type": "code",
   "execution_count": 18,
   "metadata": {},
   "outputs": [
    {
     "name": "stdout",
     "output_type": "stream",
     "text": [
      "Texto cifrado:  estaesunallavemaslar\u0013\u0004\t\u0001\n",
      "\u0006\u0003\u0006\u0011\u0017FZ\n"
     ]
    }
   ],
   "source": [
    "key2 = \"estaesunallavemaslargaqueeltexto\"\n",
    "text2 = \"textocorto25\"\n",
    "cypher_text2 = fixed_key_cypher(key2, text2)\n",
    "print(\"Texto cifrado: \", cypher_text2)"
   ]
  },
  {
   "cell_type": "code",
   "execution_count": 20,
   "metadata": {},
   "outputs": [
    {
     "name": "stdout",
     "output_type": "stream",
     "text": [
      "Texto descifrado:  \u0000\u0000\u0000\u0000\u0000\u0000\u0000\u0000\u0000\u0000\u0000\u0000\u0000\u0000\u0000\u0000\u0000\u0000\u0000\u0000textocorto25\n"
     ]
    }
   ],
   "source": [
    "print(\"Texto descifrado: \", decypher(key2, cypher_text2))"
   ]
  },
  {
   "cell_type": "markdown",
   "metadata": {},
   "source": [
    "### Llave dinámica"
   ]
  },
  {
   "cell_type": "code",
   "execution_count": 21,
   "metadata": {},
   "outputs": [
    {
     "name": "stdout",
     "output_type": "stream",
     "text": [
      "Llave:  mklCFuOgXG\n",
      "Texto cifrado:  \u0019\u000e\u00147)U,\u000e>5\f\u000f\u0003c%\u001a!G4+\f\u001d\tc\"\u001c!\u00065.\u000e\n",
      "\n"
     ]
    }
   ],
   "source": [
    "text = \"texto cifrado con llave dinamica\"\n",
    "key_size = 10\n",
    "cypher_text, key = dynamic_key_cypher(10, text)\n",
    "print(\"Llave: \", key)\n",
    "print(\"Texto cifrado: \", cypher_text)"
   ]
  },
  {
   "cell_type": "code",
   "execution_count": 22,
   "metadata": {},
   "outputs": [
    {
     "name": "stdout",
     "output_type": "stream",
     "text": [
      "Texto descifrado:  texto cifrado con llave dinamica\n"
     ]
    }
   ],
   "source": [
    "print(\"Texto descifrado: \", decypher(key, cypher_text))"
   ]
  }
 ],
 "metadata": {
  "kernelspec": {
   "display_name": "Python 3",
   "language": "python",
   "name": "python3"
  },
  "language_info": {
   "codemirror_mode": {
    "name": "ipython",
    "version": 3
   },
   "file_extension": ".py",
   "mimetype": "text/x-python",
   "name": "python",
   "nbconvert_exporter": "python",
   "pygments_lexer": "ipython3",
   "version": "3.13.1"
  }
 },
 "nbformat": 4,
 "nbformat_minor": 2
}
