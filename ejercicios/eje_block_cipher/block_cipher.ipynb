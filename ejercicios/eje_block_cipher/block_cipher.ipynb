{
 "cells": [
  {
   "cell_type": "markdown",
   "metadata": {},
   "source": [
    "# Ejercicio Block Cipher\n",
    "Diego Andrés Morales Aquino\n",
    "21762\n"
   ]
  },
  {
   "cell_type": "markdown",
   "metadata": {},
   "source": [
    "## 1. Generación una función cifrado y descifrado DES "
   ]
  },
  {
   "cell_type": "markdown",
   "metadata": {},
   "source": [
    "Código realizado con el apoyo del modelo GPT 3.5 <br>\n",
    "Prompt disponible en: https://chatgpt.com/share/67ca43b1-7c64-8009-b4f7-8467992c94ff"
   ]
  },
  {
   "cell_type": "code",
   "execution_count": 47,
   "metadata": {},
   "outputs": [],
   "source": [
    "from Crypto.Cipher import DES\n",
    "from Crypto.Random import get_random_bytes\n",
    "import binascii"
   ]
  },
  {
   "cell_type": "code",
   "execution_count": 48,
   "metadata": {},
   "outputs": [],
   "source": [
    "\n",
    "def add_padding(text):\n",
    "    \"\"\"\n",
    "    Agregar padding. El padding está compuesto por el char que corresponde a la longitud del padding.\n",
    "    \"\"\"\n",
    "    pad_length = 8 - len(text) % 8\n",
    "    padding = chr(pad_length) * pad_length\n",
    "    return text + padding\n",
    "\n",
    "def des_encrypt(plain_text):\n",
    "\n",
    "    key = get_random_bytes(8)\n",
    "    padded_text = add_padding(plain_text)\n",
    "    \n",
    "    # Cifrado DES en modo ECB\n",
    "    cipher = DES.new(key, DES.MODE_ECB)\n",
    "    encrypted_text = cipher.encrypt(padded_text.encode())\n",
    "    \n",
    "    # Retornar llave y cifrado en hexa\n",
    "    return binascii.hexlify(key).decode(), binascii.hexlify(encrypted_text).decode()"
   ]
  },
  {
   "cell_type": "code",
   "execution_count": 49,
   "metadata": {},
   "outputs": [],
   "source": [
    "def remove_padding(padded_text):\n",
    "    \"\"\"\n",
    "    Obtener la longitud del padding a partir del ascii del último char y eliminarlo.\n",
    "    \"\"\"\n",
    "    pad_length = ord(padded_text[-1])\n",
    "    return padded_text[:-pad_length]\n",
    "\n",
    "def des_decrypt(key_hex, encrypted_text_hex):\n",
    "\n",
    "    # hex a bytes\n",
    "    key = binascii.unhexlify(key_hex)\n",
    "    encrypted_text = binascii.unhexlify(encrypted_text_hex)\n",
    "    \n",
    "    # Desencriptar con DES\n",
    "    cipher = DES.new(key, DES.MODE_ECB)\n",
    "    decrypted_text = cipher.decrypt(encrypted_text)\n",
    "    \n",
    "    # Eliminar el padding\n",
    "    original_text = remove_padding(decrypted_text.decode())\n",
    "    \n",
    "    return original_text"
   ]
  },
  {
   "cell_type": "code",
   "execution_count": 50,
   "metadata": {},
   "outputs": [
    {
     "name": "stdout",
     "output_type": "stream",
     "text": [
      "Llave generada: a2631d625148c532\n",
      "Texto cifrado: 6809d205127b071b967bf35d8aa69ab12690ff3c50914b9f507340e8d4b391aa\n"
     ]
    }
   ],
   "source": [
    "# Encriptar texto\n",
    "plain_text = \"Mensaje de Diego Morales.\"\n",
    "key, encrypted_text = des_encrypt(plain_text)\n",
    "\n",
    "print(f\"Llave generada: {key}\")\n",
    "print(f\"Texto cifrado: {encrypted_text}\")"
   ]
  },
  {
   "cell_type": "code",
   "execution_count": 51,
   "metadata": {},
   "outputs": [
    {
     "name": "stdout",
     "output_type": "stream",
     "text": [
      "Texto original: Mensaje de Diego Morales.\n"
     ]
    }
   ],
   "source": [
    "# Desencriptar el texto\n",
    "original_text = des_decrypt(key, encrypted_text)\n",
    "\n",
    "print(f\"Texto original: {original_text}\")"
   ]
  },
  {
   "cell_type": "markdown",
   "metadata": {},
   "source": [
    "## 2. Generación una función cifrado y descifrado 3DES"
   ]
  },
  {
   "cell_type": "code",
   "execution_count": 52,
   "metadata": {},
   "outputs": [],
   "source": [
    "from Crypto.Cipher import DES3\n",
    "from Crypto.Util.Padding import pad, unpad\n",
    "from Crypto.Random import get_random_bytes\n",
    "import base64"
   ]
  },
  {
   "cell_type": "code",
   "execution_count": 53,
   "metadata": {},
   "outputs": [],
   "source": [
    "def encrypt_3des_cbc(message: str) -> str:\n",
    "    # Clave de 24 bytes\n",
    "    key = get_random_bytes(24)\n",
    "    \n",
    "    # Generar un vector de inicialización\n",
    "    iv = get_random_bytes(8)\n",
    "    \n",
    "    cipher = DES3.new(key, DES3.MODE_CBC, iv)\n",
    "    \n",
    "    # Convertir a bytes y hacer padding hasta que sea múltiplo del tamaño de bloque\n",
    "    message_bytes = message.encode('utf-8')\n",
    "    padded_message = pad(message_bytes, DES3.block_size)\n",
    "    \n",
    "    # Cifrar\n",
    "    encrypted_bytes = cipher.encrypt(padded_message)\n",
    "    \n",
    "    # Retornar la clave, IV y el mensaje cifrado en base64\n",
    "    return base64.b64encode(key + iv + encrypted_bytes).decode('utf-8')"
   ]
  },
  {
   "cell_type": "code",
   "execution_count": 54,
   "metadata": {},
   "outputs": [],
   "source": [
    "def decrypt_3des_cbc(encrypted_message: str) -> str:\n",
    "    # Decodificar desde base64\n",
    "    encrypted_data = base64.b64decode(encrypted_message)\n",
    "    \n",
    "    # Viene en formato key (24b)+iv(8b)+encrypted_message\n",
    "    key = encrypted_data[:24]\n",
    "    iv = encrypted_data[24:32]\n",
    "    encrypted_bytes = encrypted_data[32:]\n",
    "    \n",
    "    cipher = DES3.new(key, DES3.MODE_CBC, iv)\n",
    "    \n",
    "    # Desencriptar y quitar el padding\n",
    "    decrypted_padded = cipher.decrypt(encrypted_bytes)\n",
    "    decrypted_message = unpad(decrypted_padded, DES3.block_size)\n",
    "    \n",
    "    return decrypted_message.decode('utf-8')"
   ]
  },
  {
   "cell_type": "code",
   "execution_count": 55,
   "metadata": {},
   "outputs": [
    {
     "name": "stdout",
     "output_type": "stream",
     "text": [
      "Mensaje crifrado con 3DES:\n",
      "//wTSLiMU8rTITl0PrzD3ra2PsoBNhop2RpxJYRojcTNarYXGJ4DtBQIF19M8z0foVqyh5PNFjk=\n"
     ]
    }
   ],
   "source": [
    "print(\"Mensaje crifrado con 3DES:\")\n",
    "mensaje_cifrado = encrypt_3des_cbc(\"contraseña: 123456\")\n",
    "print(mensaje_cifrado)"
   ]
  },
  {
   "cell_type": "code",
   "execution_count": 56,
   "metadata": {},
   "outputs": [
    {
     "name": "stdout",
     "output_type": "stream",
     "text": [
      "Mensaje descifrado con 3DES:\n",
      "contraseña: 123456\n"
     ]
    }
   ],
   "source": [
    "print(\"Mensaje descifrado con 3DES:\")\n",
    "mensaje_descifrado = decrypt_3des_cbc(mensaje_cifrado)\n",
    "print(mensaje_descifrado)\n"
   ]
  },
  {
   "cell_type": "markdown",
   "metadata": {},
   "source": [
    "## 3. Generación una función cifrado y descifrado AES con CBC Y ECB\n",
    "\n",
    "Realizado con el apoyo de GPT 3.5 https://chatgpt.com/share/67d39e0c-009c-8009-b6b1-c70f0d23dcc6"
   ]
  },
  {
   "cell_type": "code",
   "execution_count": 57,
   "metadata": {},
   "outputs": [],
   "source": [
    "from PIL import Image\n",
    "from Crypto.Cipher import AES\n",
    "from Crypto.Util.Padding import pad, unpad\n",
    "from Crypto.Random import get_random_bytes\n",
    "import numpy as np\n",
    "import os"
   ]
  },
  {
   "cell_type": "code",
   "execution_count": 58,
   "metadata": {},
   "outputs": [],
   "source": [
    "def encrypt_image_aes(img_path, mode=\"ECB\"):\n",
    "    # Cargar imagen y convertir a RGB\n",
    "    img = Image.open(img_path).convert(\"RGB\")\n",
    "    img_array = np.array(img)\n",
    "    img_bytes = img_array.tobytes()\n",
    "    \n",
    "    # Generar key\n",
    "    key = get_random_bytes(16)\n",
    "    \n",
    "    if mode == \"CBC\":\n",
    "        iv = get_random_bytes(16)  # Generar vecotr de inicialización\n",
    "        cipher = AES.new(key, AES.MODE_CBC, iv)\n",
    "    else:\n",
    "        cipher = AES.new(key, AES.MODE_ECB)\n",
    "        iv = None  # No se usa vector de inicialización en ECB\n",
    "    \n",
    "    # Añadir padding y cifrar\n",
    "    padded_bytes = pad(img_bytes, AES.block_size)\n",
    "    encrypted_bytes = cipher.encrypt(padded_bytes)\n",
    "    \n",
    "    # Guardar como imagen\n",
    "    encrypted_array = np.frombuffer(encrypted_bytes, dtype=np.uint8)\n",
    "    encrypted_array = encrypted_array[:img_array.size].reshape(img_array.shape)  \n",
    "    encrypted_img = Image.fromarray(encrypted_array)\n",
    "    \n",
    "    output_file = f\"encrypted_{mode}_{os.path.basename(img_path)}\"\n",
    "    encrypted_img.save(output_file)\n",
    "    \n",
    "    return key, iv, img.size, output_file"
   ]
  },
  {
   "cell_type": "code",
   "execution_count": 59,
   "metadata": {},
   "outputs": [],
   "source": [
    "def decrypt_image_aes(encrypted_png_path, key, iv=None, mode=\"ECB\", img_size=(0, 0)):\n",
    "    # Cargar imagen cifrada\n",
    "    encrypted_img = Image.open(encrypted_png_path).convert(\"RGB\")\n",
    "    encrypted_array = np.array(encrypted_img)\n",
    "    encrypted_bytes = encrypted_array.tobytes()\n",
    "    \n",
    "    # Añadir padding si no es múltiplo del tamaño de bloque\n",
    "    block_size = AES.block_size\n",
    "    if len(encrypted_bytes) % block_size != 0:\n",
    "        padding_length = block_size - (len(encrypted_bytes) % block_size)\n",
    "        encrypted_bytes += b'\\0' * padding_length\n",
    "    \n",
    "    # crear objeto para cifrar según el modo\n",
    "    if mode == \"CBC\":\n",
    "        cipher = AES.new(key, AES.MODE_CBC, iv)\n",
    "    else:\n",
    "        cipher = AES.new(key, AES.MODE_ECB)\n",
    "    \n",
    "    try:\n",
    "        # Descifrar y eliminar padding\n",
    "        decrypted_bytes = unpad(cipher.decrypt(encrypted_bytes), AES.block_size)\n",
    "    except ValueError:\n",
    "        # Si hay un error con el padding, intentar sin desempaquetar\n",
    "        decrypted_bytes = cipher.decrypt(encrypted_bytes)\n",
    "        # Limitar bytes al tamaño original\n",
    "        decrypted_bytes = decrypted_bytes[:img_size[0] * img_size[1] * 3]\n",
    "    \n",
    "    # Convertir a imagen\n",
    "    decrypted_array = np.frombuffer(decrypted_bytes, dtype=np.uint8)\n",
    "    decrypted_array = decrypted_array[:img_size[0] * img_size[1] * 3].reshape((img_size[1], img_size[0], 3))\n",
    "    decrypted_img = Image.fromarray(decrypted_array)\n",
    "    \n",
    "    return decrypted_img"
   ]
  },
  {
   "cell_type": "code",
   "execution_count": 60,
   "metadata": {},
   "outputs": [
    {
     "name": "stdout",
     "output_type": "stream",
     "text": [
      "Cifrando en modo ECB...\n",
      "Imagen cifrada guardada como: encrypted_ECB_pic.png\n"
     ]
    }
   ],
   "source": [
    "# Encriptar imagen con ECB\n",
    "img_path = \"pic.png\"\n",
    "print(\"Cifrando en modo ECB...\")\n",
    "key_ecb, _, img_size, ecb_output = encrypt_image_aes(img_path, mode=\"ECB\")\n",
    "print(f\"Imagen cifrada guardada como: {ecb_output}\")"
   ]
  },
  {
   "cell_type": "code",
   "execution_count": 61,
   "metadata": {},
   "outputs": [
    {
     "name": "stdout",
     "output_type": "stream",
     "text": [
      "\n",
      "Descifrando imagen ECB...\n",
      "Imagen descifrada guardada como: decrypted_ECB.png\n"
     ]
    }
   ],
   "source": [
    "# Descifrar imagen con ECB\n",
    "print(\"\\nDescifrando imagen ECB...\")\n",
    "decrypted_ecb_img = decrypt_image_aes(ecb_output, key_ecb, mode=\"ECB\", img_size=img_size)\n",
    "decrypted_ecb_output = \"decrypted_ECB.png\"\n",
    "decrypted_ecb_img.save(decrypted_ecb_output)\n",
    "print(f\"Imagen descifrada guardada como: {decrypted_ecb_output}\")"
   ]
  },
  {
   "cell_type": "code",
   "execution_count": 62,
   "metadata": {},
   "outputs": [
    {
     "name": "stdout",
     "output_type": "stream",
     "text": [
      "\n",
      "Cifrando en modo CBC...\n"
     ]
    },
    {
     "name": "stdout",
     "output_type": "stream",
     "text": [
      "Imagen cifrada guardada como: encrypted_CBC_pic.png\n"
     ]
    }
   ],
   "source": [
    "# Encriptar imagen con CBC\n",
    "print(\"\\nCifrando en modo CBC...\")\n",
    "key_cbc, iv_cbc, img_size, cbc_output = encrypt_image_aes(img_path, mode=\"CBC\")\n",
    "print(f\"Imagen cifrada guardada como: {cbc_output}\")"
   ]
  },
  {
   "cell_type": "code",
   "execution_count": 63,
   "metadata": {},
   "outputs": [
    {
     "name": "stdout",
     "output_type": "stream",
     "text": [
      "\n",
      "Descifrando imagen CBC...\n",
      "Imagen descifrada guardada como: decrypted_CBC.png\n"
     ]
    }
   ],
   "source": [
    "# Descifrar imagen con CBC\n",
    "print(\"\\nDescifrando imagen CBC...\")\n",
    "decrypted_cbc_img = decrypt_image_aes(cbc_output, key_cbc, iv_cbc, mode=\"CBC\", img_size=img_size)\n",
    "decrypted_cbc_output = \"decrypted_CBC.png\"\n",
    "decrypted_cbc_img.save(decrypted_cbc_output)\n",
    "print(f\"Imagen descifrada guardada como: {decrypted_cbc_output}\")"
   ]
  },
  {
   "cell_type": "markdown",
   "metadata": {},
   "source": [
    "## Pruebas unitarias\n",
    "Generadas con el modelo Claude. Conversación disponible en: https://claude.ai/share/0bbb24cc-fa60-4e3c-a2ca-f3368326f617"
   ]
  },
  {
   "cell_type": "code",
   "execution_count": 64,
   "metadata": {},
   "outputs": [
    {
     "name": "stdout",
     "output_type": "stream",
     "text": [
      "Ejecutando pruebas unitarias simplificadas...\n",
      "\n",
      "Prueba DES completada\n",
      "Prueba 3DES completada\n",
      "Prueba AES-ECB completada\n",
      "Prueba AES-CBC completada\n",
      "\n",
      "Todas las pruebas pasaron correctamente!\n"
     ]
    }
   ],
   "source": [
    "def assert_true(condition, message):\n",
    "    if not condition:\n",
    "        raise AssertionError(message)\n",
    "\n",
    "def test_des():\n",
    "    \n",
    "    # Caso básico: texto simple\n",
    "    plain_text = \"Mensaje de prueba\"\n",
    "    key, encrypted_text = des_encrypt(plain_text)\n",
    "    \n",
    "    # Descifrar y verificar\n",
    "    decrypted_text = des_decrypt(key, encrypted_text)\n",
    "    if decrypted_text != plain_text:\n",
    "        raise AssertionError(f\"Error en DES: texto descifrado '{decrypted_text}' no coincide con original '{plain_text}'\")\n",
    "    \n",
    "    print(\"Prueba DES completada\")\n",
    "\n",
    "def test_3des():\n",
    "    \n",
    "    # Caso básico\n",
    "    plain_text = \"contraseña secreta\"\n",
    "    encrypted = encrypt_3des_cbc(plain_text)\n",
    "    \n",
    "    # Descifrar y verificar\n",
    "    decrypted = decrypt_3des_cbc(encrypted)\n",
    "    if decrypted != plain_text:\n",
    "        raise AssertionError(f\"Error en 3DES: texto descifrado '{decrypted}' no coincide con original '{plain_text}'\")\n",
    "    \n",
    "    print(\"Prueba 3DES completada\")\n",
    "\n",
    "def test_aes_ecb():\n",
    "    \n",
    "    # Crear una imagen de prueba simple\n",
    "    test_image_path = \"test_image.png\"\n",
    "    test_img = Image.new('RGB', (20, 20), color=(100, 150, 200))\n",
    "    test_img.save(test_image_path)\n",
    "    \n",
    "    # Cifrar imagen en modo ECB\n",
    "    try:\n",
    "        key_ecb, _, img_size, ecb_output = encrypt_image_aes(test_image_path, mode=\"ECB\")\n",
    "        \n",
    "        # Verificar archivo creado\n",
    "        if not os.path.exists(ecb_output):\n",
    "            raise AssertionError(\"No se creó el archivo de imagen cifrada\")\n",
    "        \n",
    "        # Descifrar\n",
    "        decrypt_image_aes(ecb_output, key_ecb, mode=\"ECB\", img_size=img_size)\n",
    "        \n",
    "        # Limpiar archivos\n",
    "        os.remove(test_image_path)\n",
    "        os.remove(ecb_output)\n",
    "        \n",
    "        print(\"Prueba AES-ECB completada\")\n",
    "    except Exception as e:\n",
    "        # Limpiar archivos en caso de error\n",
    "        if os.path.exists(test_image_path):\n",
    "            os.remove(test_image_path)\n",
    "        if os.path.exists(ecb_output):\n",
    "            os.remove(ecb_output)\n",
    "        raise AssertionError(f\"Error en AES-ECB: {str(e)}\")\n",
    "    \n",
    "def test_aes_cbc():\n",
    "    \n",
    "    test_image_path = \"test_image.png\"\n",
    "    \n",
    "    # Verificar que la imagen de prueba existe\n",
    "    if not os.path.exists(test_image_path):\n",
    "        test_img = Image.new('RGB', (20, 20), color=(100, 150, 200))\n",
    "        test_img.save(test_image_path)\n",
    "    \n",
    "    # Cifrar imagen en modo CBC\n",
    "    try:\n",
    "        key_cbc, iv_cbc, img_size, cbc_output = encrypt_image_aes(test_image_path, mode=\"CBC\")\n",
    "        \n",
    "        # Verificar archivo creado\n",
    "        if not os.path.exists(cbc_output):\n",
    "            raise AssertionError(\"No se creó el archivo de imagen cifrada en modo CBC\")\n",
    "        \n",
    "        # Descifrar\n",
    "        decrypt_image_aes(cbc_output, key_cbc, iv_cbc, mode=\"CBC\", img_size=img_size)\n",
    "        \n",
    "        # Limpiar archivos\n",
    "        os.remove(cbc_output)\n",
    "        os.remove(test_image_path)  # Eliminar la imagen de prueba al final\n",
    "        \n",
    "        print(\"Prueba AES-CBC completada\")\n",
    "    except Exception as e:\n",
    "        # Limpiar archivos en caso de error\n",
    "        if os.path.exists(cbc_output):\n",
    "            os.remove(cbc_output)\n",
    "        if os.path.exists(test_image_path):\n",
    "            os.remove(test_image_path)\n",
    "        raise AssertionError(f\"Error en AES-CBC: {str(e)}\")\n",
    "\n",
    "\n",
    "def run_tests():\n",
    "    print(\"Ejecutando pruebas unitarias simplificadas...\\n\")\n",
    "    \n",
    "    try:\n",
    "        # Ejecutar pruebas\n",
    "        test_des()\n",
    "        test_3des()\n",
    "        test_aes_ecb()\n",
    "        test_aes_cbc()\n",
    "        \n",
    "        print(\"\\nTodas las pruebas pasaron correctamente!\")\n",
    "    except AssertionError as e:\n",
    "        print(f\"\\nError: {str(e)}\")\n",
    "    except Exception as e:\n",
    "        print(f\"\\nError inesperado: {str(e)}\")\n",
    "\n",
    "\n",
    "\n",
    "run_tests()"
   ]
  },
  {
   "cell_type": "markdown",
   "metadata": {},
   "source": [
    "## 4. Preguntas a Responder "
   ]
  },
  {
   "cell_type": "markdown",
   "metadata": {},
   "source": [
    "- **¿Qué tamaño de clave se está usando para DES, 3DES y AES?** <br>\n",
    "\n",
    "    Para DES se utiliza un tamaño de llave de 8 bytes, en donde 56 bits corresponden a la llave como tal y los 8 bits restantes se utilizan para verificaciones de paridad. Para 3DES se emplea una llave de 24 bytes, que se subdivide en 3 llaves distintas de 8 bytes cada una, para aplicar DES 3 veces. Y por último, para AES se está utilizando una llave de 16 bytes o 128 bits. \n",
    "\n",
    "- **¿Qué modo de operación está implementado?** <br>\n",
    "\n",
    "    ECB y CBC.\n",
    "\n",
    "- **¿Por qué no debemos usar ECB en datos sensibles?** <br>\n",
    "\n",
    "    Debido a que ECB cifra cada bloque de forma independiente, por lo que podría darse el caso en el que dos o más bloques son idénticos, resultando en el mismo cifrado. Esto a su vez permite ver patrones visibles en los datos cifrados, tal y como se observa en la imagen cifrada con AES CBC, en donde se pueden identificar rasgos de la imagen origianl.\n",
    "\n",
    "- **¿Cual es la diferencia entre ECB vs CBC, se puede notar directamente en una imagen?** <br>\n",
    "\n",
    "    El modo ECB cifra cada bloque de forma independiente, por lo que se pueden generar cifrados identicos para bloques de entrada iguales. Mientras que, CBC cifra cada bloque dependiendo del bloque anterior y de un vector de inicialización (en el caso del primero). En la imagen cifrada con ECB se pueden observar patrones, tal y como en la imagen de ejemplo que es posible detectar razgos de la imagen original. Mientras que CBC al introducir un mayor grado de aleatoriedad, permite ocultar de mejor manera patrones, dando como resultado una imagen cifrada que a simple vista parece únicamente ruido.\n",
    "\n",
    "- **¿Que es el IV?** <br>\n",
    "\n",
    "    El IV o vector de inicialización corresponde a un valor aleatorio o único que se utiliza en modos de cifrado como CBC para agregar aleatoriedad y evitar que al cifrar un mismo bloque se obtenga dos veces el mismo resultado. Este vector debe tener el mismo tamaño de bloque, no es necesario que se mantenga en secreto y no debe reutilizarse para cifrar con la misma clave. Por ejemplo en CBC, el primer bloque de texto claro se combina con el IV mediante una operación XOR antes de ser cifrado. Esto asegura que incluso se cifra el mismo texto con la misma llave el resultado  será distinto, debido al elemento aleatorio que introduce el IV al inicio de la cadena de cifrado.\n",
    "\n",
    "- **¿Que es el PADDING?** <br>\n",
    "\n",
    "    El padding corresponde a los bits que se requieren para que el tamaño del texto a cifrar sea múltiplo del tamaño de bloque que el algoritmo de cifrado requiere. Es decir, el padding consiste en datos adicionales triviales que se tienen que agregar para completar el último bloque.\n",
    "\n",
    "- **¿En qué situaciones se recomienda cada modo de operación?** <br>\n",
    "\n",
    "    ECB puede ser útil para entornos donde se requiera rapidez y no se cuente con datos sensibles, ya que revela patrones en los datos cifrados. CBC es más seguro para datos sensibles, pero puede ser más lento por su cifrado secuencial. CTR es más rápido y permite paralelización, lo que lo hace adecuado para situaciones que requieren alto rendimiento sin comprometer la seguridad. Por otro lado se cuenta con los modos OFB, que es ideal para cifrado en tiempo real y GCM para aplicaciones en donde es importante la protección contra la modificación y la confidencialidad de los datos, dado que permite autenticar los datos además de cifrarlo. \n",
    "\n",
    "- **¿Cómo elegir un modo seguro en cada lenguaje de programación?** <br>\n",
    "\n",
    "    En python, para elegir el modo seguro CBC, se realiza de la siguiente manera:\n",
    "\n",
    "    - DES\n",
    "        ```\n",
    "        cipher = DES.new(key, DES.MODE_ECB)\n",
    "        ```\n",
    "    - 3DES\n",
    "        ```\n",
    "        cipher = DES3.new(key, DES3.MODE_CBC, iv)\n",
    "        ```\n",
    "\n",
    "    - AES\n",
    "        ```\n",
    "        cipher = Cipher(algorithms.AES(key), modes.CBC(iv))\n",
    "        ```"
   ]
  }
 ],
 "metadata": {
  "kernelspec": {
   "display_name": "Python 3",
   "language": "python",
   "name": "python3"
  },
  "language_info": {
   "codemirror_mode": {
    "name": "ipython",
    "version": 3
   },
   "file_extension": ".py",
   "mimetype": "text/x-python",
   "name": "python",
   "nbconvert_exporter": "python",
   "pygments_lexer": "ipython3",
   "version": "3.13.1"
  }
 },
 "nbformat": 4,
 "nbformat_minor": 2
}
