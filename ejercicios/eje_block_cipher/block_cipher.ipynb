{
 "cells": [
  {
   "cell_type": "markdown",
   "metadata": {},
   "source": [
    "# Ejercicio Block Cipher\n",
    "Diego Andrés Morales Aquino\n",
    "21762\n"
   ]
  },
  {
   "cell_type": "markdown",
   "metadata": {},
   "source": [
    "## 1. Generación una función cifrado y descifrado DES "
   ]
  },
  {
   "cell_type": "markdown",
   "metadata": {},
   "source": [
    "Código realizado con el apoyo del modelo GPT 3.5 <br>\n",
    "Prompt disponible en: https://chatgpt.com/share/67ca43b1-7c64-8009-b4f7-8467992c94ff"
   ]
  },
  {
   "cell_type": "code",
   "execution_count": 21,
   "metadata": {},
   "outputs": [],
   "source": [
    "from Crypto.Cipher import DES\n",
    "from Crypto.Random import get_random_bytes\n",
    "import binascii"
   ]
  },
  {
   "cell_type": "code",
   "execution_count": null,
   "metadata": {},
   "outputs": [],
   "source": [
    "\n",
    "def pad(text):\n",
    "    \"\"\"\n",
    "    Agregar padding. El padding está compuesto por el char que corresponde a la longitud del padding.\n",
    "    \"\"\"\n",
    "    pad_length = 8 - len(text) % 8\n",
    "    padding = chr(pad_length) * pad_length\n",
    "    return text + padding\n",
    "\n",
    "def des_encrypt(plain_text):\n",
    "\n",
    "    key = get_random_bytes(8)\n",
    "    padded_text = pad(plain_text)\n",
    "    \n",
    "    # Cifrado DES en modo ECB\n",
    "    cipher = DES.new(key, DES.MODE_ECB)\n",
    "    encrypted_text = cipher.encrypt(padded_text.encode())\n",
    "    \n",
    "    # Retornar llave y cifrado en hexa\n",
    "    return binascii.hexlify(key).decode(), binascii.hexlify(encrypted_text).decode()"
   ]
  },
  {
   "cell_type": "code",
   "execution_count": null,
   "metadata": {},
   "outputs": [],
   "source": [
    "def unpad(padded_text):\n",
    "    \"\"\"\n",
    "    Obtener la longitud del padding a partir del ascii del último char y eliminarlo.\n",
    "    \"\"\"\n",
    "    pad_length = ord(padded_text[-1])\n",
    "    return padded_text[:-pad_length]\n",
    "\n",
    "def des_decrypt(key_hex, encrypted_text_hex):\n",
    "\n",
    "    # hex a bytes\n",
    "    key = binascii.unhexlify(key_hex)\n",
    "    encrypted_text = binascii.unhexlify(encrypted_text_hex)\n",
    "    \n",
    "    # Desencriptar con DES\n",
    "    cipher = DES.new(key, DES.MODE_ECB)\n",
    "    decrypted_text = cipher.decrypt(encrypted_text)\n",
    "    \n",
    "    # Eliminar el padding\n",
    "    original_text = unpad(decrypted_text.decode())\n",
    "    \n",
    "    return original_text"
   ]
  },
  {
   "cell_type": "code",
   "execution_count": 24,
   "metadata": {},
   "outputs": [
    {
     "name": "stdout",
     "output_type": "stream",
     "text": [
      "Llave generada: 9991d3e6a2eb2774\n",
      "Texto cifrado: b5645534d928298ca52ef2f8fb962b9fb6ff391212401389382b1a7eeaa31a09\n"
     ]
    }
   ],
   "source": [
    "# Encriptar texto\n",
    "plain_text = \"Mensaje de Diego Morales.\"\n",
    "key, encrypted_text = des_encrypt(plain_text)\n",
    "\n",
    "print(f\"Llave generada: {key}\")\n",
    "print(f\"Texto cifrado: {encrypted_text}\")"
   ]
  },
  {
   "cell_type": "code",
   "execution_count": 25,
   "metadata": {},
   "outputs": [
    {
     "name": "stdout",
     "output_type": "stream",
     "text": [
      "Texto original: Mensaje de Diego Morales.\n"
     ]
    }
   ],
   "source": [
    "# Desencriptar el texto\n",
    "original_text = des_decrypt(key, encrypted_text)\n",
    "\n",
    "print(f\"Texto original: {original_text}\")"
   ]
  },
  {
   "cell_type": "markdown",
   "metadata": {},
   "source": [
    "## 2. Generación una función cifrado y descifrado 3DES"
   ]
  },
  {
   "cell_type": "code",
   "execution_count": 3,
   "metadata": {},
   "outputs": [],
   "source": [
    "from Crypto.Cipher import DES3\n",
    "from Crypto.Util.Padding import pad\n",
    "from Crypto.Random import get_random_bytes\n",
    "import base64"
   ]
  },
  {
   "cell_type": "code",
   "execution_count": 8,
   "metadata": {},
   "outputs": [],
   "source": [
    "def encrypt_3des_cbc(message: str) -> str:\n",
    "    # Clave de 24 bytes\n",
    "    key = get_random_bytes(24)\n",
    "    \n",
    "    # Generar un vector de inicialización\n",
    "    iv = get_random_bytes(8)\n",
    "    \n",
    "    cipher = DES3.new(key, DES3.MODE_CBC, iv)\n",
    "    \n",
    "    # Convertir a bytes y hacer padding hasta que sea múltiplo del tamaño de bloque\n",
    "    message_bytes = message.encode('utf-8')\n",
    "    padded_message = pad(message_bytes, DES3.block_size)\n",
    "    \n",
    "    # Cifrar\n",
    "    encrypted_bytes = cipher.encrypt(padded_message)\n",
    "    \n",
    "    # Retornar la clave, IV y el mensaje cifrado en base64\n",
    "    return base64.b64encode(key + iv + encrypted_bytes).decode('utf-8')"
   ]
  },
  {
   "cell_type": "code",
   "execution_count": null,
   "metadata": {},
   "outputs": [],
   "source": [
    "def decrypt_3des_cbc(encrypted_message: str) -> str:\n",
    "    # Decodificar desde base64\n",
    "    encrypted_data = base64.b64decode(encrypted_message)\n",
    "    \n",
    "    # Viene en formato key (24b)+iv(8b)+encrypted_message\n",
    "    key = encrypted_data[:24]\n",
    "    iv = encrypted_data[24:32]\n",
    "    encrypted_bytes = encrypted_data[32:]\n",
    "    \n",
    "    cipher = DES3.new(key, DES3.MODE_CBC, iv)\n",
    "    \n",
    "    # Desencriptar y quitar el padding\n",
    "    decrypted_padded = cipher.decrypt(encrypted_bytes)\n",
    "    decrypted_message = unpad(decrypted_padded, DES3.block_size)\n",
    "    \n",
    "    return decrypted_message.decode('utf-8')"
   ]
  },
  {
   "cell_type": "code",
   "execution_count": 10,
   "metadata": {},
   "outputs": [
    {
     "name": "stdout",
     "output_type": "stream",
     "text": [
      "Mensaje crifrado con 3DES:\n",
      "FMW/3PONCafu1FHia+Ob3VCGyG2TTbijVI5mLEZLGSsUdRtws4Ioz6+SEBuLm7mVpSqSlHe6dLA=\n"
     ]
    }
   ],
   "source": [
    "print(\"Mensaje crifrado con 3DES:\")\n",
    "mensaje_cifrado = encrypt_3des_cbc(\"contraseña: 123456\")\n",
    "print(mensaje_cifrado)"
   ]
  },
  {
   "cell_type": "code",
   "execution_count": 11,
   "metadata": {},
   "outputs": [
    {
     "name": "stdout",
     "output_type": "stream",
     "text": [
      "Mensaje descifrado con 3DES:\n",
      "contraseña: 123456\n"
     ]
    }
   ],
   "source": [
    "print(\"Mensaje descifrado con 3DES:\")\n",
    "mensaje_descifrado = decrypt_3des_cbc(mensaje_cifrado)\n",
    "print(mensaje_descifrado)\n"
   ]
  },
  {
   "cell_type": "markdown",
   "metadata": {},
   "source": [
    "## 3. Generación una función cifrado y descifrado AES con CBC Y ECB"
   ]
  },
  {
   "cell_type": "code",
   "execution_count": null,
   "metadata": {},
   "outputs": [],
   "source": [
    "from PIL import Image\n",
    "from Crypto.Cipher import AES\n",
    "from Crypto.Util.Padding import pad, unpad\n",
    "from Crypto.Random import get_random_bytes\n",
    "import numpy as np\n",
    "import os"
   ]
  },
  {
   "cell_type": "code",
   "execution_count": null,
   "metadata": {},
   "outputs": [],
   "source": [
    "def encrypt_image(img_path, mode=\"ECB\"):\n",
    "    # Cargar imagen y convertir a RGB\n",
    "    img = Image.open(img_path).convert(\"RGB\")\n",
    "    img_array = np.array(img)\n",
    "    img_bytes = img_array.tobytes()\n",
    "    \n",
    "    # Generar key\n",
    "    key = get_random_bytes(16)\n",
    "    \n",
    "    if mode == \"CBC\":\n",
    "        iv = get_random_bytes(16)  # Generar vecotr de inicialización\n",
    "        cipher = AES.new(key, AES.MODE_CBC, iv)\n",
    "    else:\n",
    "        cipher = AES.new(key, AES.MODE_ECB)\n",
    "        iv = None  # No se usa vector de inicialización en ECB\n",
    "    \n",
    "    # Añadir padding y cifrar\n",
    "    padded_bytes = pad(img_bytes, AES.block_size)\n",
    "    encrypted_bytes = cipher.encrypt(padded_bytes)\n",
    "    \n",
    "    # Guardar como imagen\n",
    "    encrypted_array = np.frombuffer(encrypted_bytes, dtype=np.uint8)\n",
    "    encrypted_array = encrypted_array[:img_array.size].reshape(img_array.shape)  \n",
    "    encrypted_img = Image.fromarray(encrypted_array)\n",
    "    \n",
    "    output_file = f\"encrypted_{mode}_{os.path.basename(img_path)}\"\n",
    "    encrypted_img.save(output_file)\n",
    "    \n",
    "    return key, iv, img.size, output_file"
   ]
  },
  {
   "cell_type": "code",
   "execution_count": 71,
   "metadata": {},
   "outputs": [],
   "source": [
    "def decrypt_image_from_png(encrypted_png_path, key, iv=None, mode=\"ECB\", img_size=(0, 0)):\n",
    "    # Cargar imagen cifrada\n",
    "    encrypted_img = Image.open(encrypted_png_path).convert(\"RGB\")\n",
    "    encrypted_array = np.array(encrypted_img)\n",
    "    encrypted_bytes = encrypted_array.tobytes()\n",
    "    \n",
    "    # Añadir padding si no es múltiplo del tamaño de bloque\n",
    "    block_size = AES.block_size\n",
    "    if len(encrypted_bytes) % block_size != 0:\n",
    "        padding_length = block_size - (len(encrypted_bytes) % block_size)\n",
    "        encrypted_bytes += b'\\0' * padding_length\n",
    "    \n",
    "    # crear objeto para cifrar según el modo\n",
    "    if mode == \"CBC\":\n",
    "        cipher = AES.new(key, AES.MODE_CBC, iv)\n",
    "    else:\n",
    "        cipher = AES.new(key, AES.MODE_ECB)\n",
    "    \n",
    "    try:\n",
    "        # Descifrar y eliminar padding\n",
    "        decrypted_bytes = unpad(cipher.decrypt(encrypted_bytes), AES.block_size)\n",
    "    except ValueError:\n",
    "        # Si hay un error con el padding, intentar sin desempaquetar\n",
    "        decrypted_bytes = cipher.decrypt(encrypted_bytes)\n",
    "        # Limitar bytes al tamaño original\n",
    "        decrypted_bytes = decrypted_bytes[:img_size[0] * img_size[1] * 3]\n",
    "    \n",
    "    # Convertir a imagen\n",
    "    decrypted_array = np.frombuffer(decrypted_bytes, dtype=np.uint8)\n",
    "    decrypted_array = decrypted_array[:img_size[0] * img_size[1] * 3].reshape((img_size[1], img_size[0], 3))\n",
    "    decrypted_img = Image.fromarray(decrypted_array)\n",
    "    \n",
    "    return decrypted_img"
   ]
  },
  {
   "cell_type": "code",
   "execution_count": 65,
   "metadata": {},
   "outputs": [
    {
     "name": "stdout",
     "output_type": "stream",
     "text": [
      "Cifrando en modo ECB...\n",
      "Imagen cifrada guardada como: encrypted_ECB_pic.png\n"
     ]
    }
   ],
   "source": [
    "# Encriptar imagen con ECB\n",
    "img_path = \"pic.png\"\n",
    "print(\"Cifrando en modo ECB...\")\n",
    "key_ecb, _, img_size, ecb_output = encrypt_image(img_path, mode=\"ECB\")\n",
    "print(f\"Imagen cifrada guardada como: {ecb_output}\")"
   ]
  },
  {
   "cell_type": "code",
   "execution_count": 72,
   "metadata": {},
   "outputs": [
    {
     "name": "stdout",
     "output_type": "stream",
     "text": [
      "\n",
      "Descifrando imagen ECB...\n",
      "Imagen descifrada guardada como: decrypted_ECB.png\n"
     ]
    }
   ],
   "source": [
    "# Descifrar imagen con ECB\n",
    "print(\"\\nDescifrando imagen ECB...\")\n",
    "decrypted_ecb_img = decrypt_image_from_png(ecb_output, key_ecb, mode=\"ECB\", img_size=img_size)\n",
    "decrypted_ecb_output = \"decrypted_ECB.png\"\n",
    "decrypted_ecb_img.save(decrypted_ecb_output)\n",
    "print(f\"Imagen descifrada guardada como: {decrypted_ecb_output}\")"
   ]
  },
  {
   "cell_type": "code",
   "execution_count": 67,
   "metadata": {},
   "outputs": [
    {
     "name": "stdout",
     "output_type": "stream",
     "text": [
      "\n",
      "Cifrando en modo CBC...\n",
      "Imagen cifrada guardada como: encrypted_CBC_pic.png\n"
     ]
    }
   ],
   "source": [
    "# Encriptar imagen con CBC\n",
    "print(\"\\nCifrando en modo CBC...\")\n",
    "key_cbc, iv_cbc, img_size, cbc_output = encrypt_image(img_path, mode=\"CBC\")\n",
    "print(f\"Imagen cifrada guardada como: {cbc_output}\")"
   ]
  },
  {
   "cell_type": "code",
   "execution_count": 68,
   "metadata": {},
   "outputs": [
    {
     "name": "stdout",
     "output_type": "stream",
     "text": [
      "\n",
      "Descifrando imagen CBC...\n",
      "Imagen descifrada guardada como: decrypted_CBC.png\n"
     ]
    }
   ],
   "source": [
    "# Descifrar imagen con CBC\n",
    "print(\"\\nDescifrando imagen CBC...\")\n",
    "decrypted_cbc_img = decrypt_image_from_png(cbc_output, key_cbc, iv_cbc, mode=\"CBC\", img_size=img_size)\n",
    "decrypted_cbc_output = \"decrypted_CBC.png\"\n",
    "decrypted_cbc_img.save(decrypted_cbc_output)\n",
    "print(f\"Imagen descifrada guardada como: {decrypted_cbc_output}\")"
   ]
  }
 ],
 "metadata": {
  "kernelspec": {
   "display_name": "Python 3",
   "language": "python",
   "name": "python3"
  },
  "language_info": {
   "codemirror_mode": {
    "name": "ipython",
    "version": 3
   },
   "file_extension": ".py",
   "mimetype": "text/x-python",
   "name": "python",
   "nbconvert_exporter": "python",
   "pygments_lexer": "ipython3",
   "version": "3.13.1"
  }
 },
 "nbformat": 4,
 "nbformat_minor": 2
}
