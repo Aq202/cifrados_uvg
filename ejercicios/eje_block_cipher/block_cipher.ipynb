{
 "cells": [
  {
   "cell_type": "markdown",
   "metadata": {},
   "source": [
    "# Ejercicio Block Cipher\n",
    "Diego Andrés Morales Aquino\n",
    "21762\n"
   ]
  },
  {
   "cell_type": "code",
   "execution_count": 21,
   "metadata": {},
   "outputs": [],
   "source": [
    "from Crypto.Cipher import DES\n",
    "from Crypto.Random import get_random_bytes\n",
    "import binascii"
   ]
  },
  {
   "cell_type": "markdown",
   "metadata": {},
   "source": [
    "## 1. Generación una función cifrado y descifrado DES "
   ]
  },
  {
   "cell_type": "markdown",
   "metadata": {},
   "source": [
    "Código realizado con el apoyo del modelo GPT 3.5 <br>\n",
    "Prompt disponible en: https://chatgpt.com/share/67ca43b1-7c64-8009-b4f7-8467992c94ff"
   ]
  },
  {
   "cell_type": "code",
   "execution_count": null,
   "metadata": {},
   "outputs": [],
   "source": [
    "\n",
    "def pad(text):\n",
    "    \"\"\"\n",
    "    Agregar padding. El padding está compuesto por el char que corresponde a la longitud del padding.\n",
    "    \"\"\"\n",
    "    pad_length = 8 - len(text) % 8\n",
    "    padding = chr(pad_length) * pad_length\n",
    "    return text + padding\n",
    "\n",
    "def des_encrypt(plain_text):\n",
    "\n",
    "    key = get_random_bytes(8)\n",
    "    padded_text = pad(plain_text)\n",
    "    \n",
    "    # Cifrado DES en modo ECB\n",
    "    cipher = DES.new(key, DES.MODE_ECB)\n",
    "    encrypted_text = cipher.encrypt(padded_text.encode())\n",
    "    \n",
    "    # Retornar llave y cifrado en hexa\n",
    "    return binascii.hexlify(key).decode(), binascii.hexlify(encrypted_text).decode()"
   ]
  },
  {
   "cell_type": "code",
   "execution_count": null,
   "metadata": {},
   "outputs": [],
   "source": [
    "def unpad(padded_text):\n",
    "    \"\"\"\n",
    "    Obtener la longitud del padding a partir del ascii del último char y eliminarlo.\n",
    "    \"\"\"\n",
    "    pad_length = ord(padded_text[-1])\n",
    "    return padded_text[:-pad_length]\n",
    "\n",
    "def des_decrypt(key_hex, encrypted_text_hex):\n",
    "\n",
    "    # hex a bytes\n",
    "    key = binascii.unhexlify(key_hex)\n",
    "    encrypted_text = binascii.unhexlify(encrypted_text_hex)\n",
    "    \n",
    "    # Desencriptar con DES\n",
    "    cipher = DES.new(key, DES.MODE_ECB)\n",
    "    decrypted_text = cipher.decrypt(encrypted_text)\n",
    "    \n",
    "    # Eliminar el padding\n",
    "    original_text = unpad(decrypted_text.decode())\n",
    "    \n",
    "    return original_text"
   ]
  },
  {
   "cell_type": "code",
   "execution_count": 24,
   "metadata": {},
   "outputs": [
    {
     "name": "stdout",
     "output_type": "stream",
     "text": [
      "Llave generada: 9991d3e6a2eb2774\n",
      "Texto cifrado: b5645534d928298ca52ef2f8fb962b9fb6ff391212401389382b1a7eeaa31a09\n"
     ]
    }
   ],
   "source": [
    "# Encriptar texto\n",
    "plain_text = \"Mensaje de Diego Morales.\"\n",
    "key, encrypted_text = des_encrypt(plain_text)\n",
    "\n",
    "print(f\"Llave generada: {key}\")\n",
    "print(f\"Texto cifrado: {encrypted_text}\")"
   ]
  },
  {
   "cell_type": "code",
   "execution_count": 25,
   "metadata": {},
   "outputs": [
    {
     "name": "stdout",
     "output_type": "stream",
     "text": [
      "Texto original: Mensaje de Diego Morales.\n"
     ]
    }
   ],
   "source": [
    "# Desencriptar el texto\n",
    "original_text = des_decrypt(key, encrypted_text)\n",
    "\n",
    "print(f\"Texto original: {original_text}\")"
   ]
  }
 ],
 "metadata": {
  "kernelspec": {
   "display_name": "Python 3",
   "language": "python",
   "name": "python3"
  },
  "language_info": {
   "codemirror_mode": {
    "name": "ipython",
    "version": 3
   },
   "file_extension": ".py",
   "mimetype": "text/x-python",
   "name": "python",
   "nbconvert_exporter": "python",
   "pygments_lexer": "ipython3",
   "version": "3.13.1"
  }
 },
 "nbformat": 4,
 "nbformat_minor": 2
}
