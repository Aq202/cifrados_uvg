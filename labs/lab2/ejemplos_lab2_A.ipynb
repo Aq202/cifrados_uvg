{
 "cells": [
  {
   "cell_type": "markdown",
   "metadata": {},
   "source": [
    "# Laboratorio 2 A\n",
    "\n",
    "Diego Andrés Morales Aquino - 21762"
   ]
  },
  {
   "cell_type": "code",
   "execution_count": 1,
   "metadata": {},
   "outputs": [],
   "source": [
    "from ascii_binary import text_to_binary, binary_to_text\n",
    "from ascii_base64 import text_to_base64, base64_to_text\n",
    "from xor import xor_binary_strings"
   ]
  },
  {
   "cell_type": "markdown",
   "metadata": {},
   "source": [
    "### Inciso 1\n"
   ]
  },
  {
   "cell_type": "code",
   "execution_count": 2,
   "metadata": {},
   "outputs": [
    {
     "name": "stdout",
     "output_type": "stream",
     "text": [
      "010010000110111101101100011000010010000001100001001000000111010001101111011001000110111101110011\n"
     ]
    }
   ],
   "source": [
    "eje1 = \"Hola a todos\"\n",
    "print(text_to_binary(eje1))"
   ]
  },
  {
   "cell_type": "code",
   "execution_count": 3,
   "metadata": {},
   "outputs": [
    {
     "name": "stdout",
     "output_type": "stream",
     "text": [
      "0110001101101100011000010111001101100101001000000110010001100101001000000110001101101001011001100111001001100001011001000110111101110011\n"
     ]
    }
   ],
   "source": [
    "eje2 = \"clase de cifrados\"\n",
    "print(text_to_binary(eje2))"
   ]
  },
  {
   "cell_type": "markdown",
   "metadata": {},
   "source": [
    "### Inciso 2"
   ]
  },
  {
   "cell_type": "code",
   "execution_count": 4,
   "metadata": {},
   "outputs": [
    {
     "data": {
      "text/plain": [
       "'Hola a todos'"
      ]
     },
     "execution_count": 4,
     "metadata": {},
     "output_type": "execute_result"
    }
   ],
   "source": [
    "eje3 = \"010010000110111101101100011000010010000001100001001000000111010001101111011001000110111101110011\"\n",
    "binary_to_text(eje3)"
   ]
  },
  {
   "cell_type": "code",
   "execution_count": 5,
   "metadata": {},
   "outputs": [
    {
     "data": {
      "text/plain": [
       "'clase de cifrados'"
      ]
     },
     "execution_count": 5,
     "metadata": {},
     "output_type": "execute_result"
    }
   ],
   "source": [
    "eje4 = \"0110001101101100011000010111001101100101001000000110010001100101001000000110001101101001011001100111001001100001011001000110111101110011\"\n",
    "binary_to_text(eje4)"
   ]
  },
  {
   "cell_type": "markdown",
   "metadata": {},
   "source": [
    "### Inciso 3"
   ]
  },
  {
   "cell_type": "code",
   "execution_count": 6,
   "metadata": {},
   "outputs": [
    {
     "name": "stdout",
     "output_type": "stream",
     "text": [
      "THVuYSBkZSB4ZWxhavo=\n"
     ]
    }
   ],
   "source": [
    "eje5 = \"Luna de xelajú\"\n",
    "eje5_base64 = text_to_base64(eje5)\n",
    "print(eje5_base64)"
   ]
  },
  {
   "cell_type": "code",
   "execution_count": 7,
   "metadata": {},
   "outputs": [
    {
     "name": "stdout",
     "output_type": "stream",
     "text": [
      "RGllZ28gTW9yYWxlcw==\n"
     ]
    }
   ],
   "source": [
    "eje6 = \"Diego Morales\"\n",
    "eje6_base64 = text_to_base64(eje6)\n",
    "print(eje6_base64)"
   ]
  },
  {
   "cell_type": "markdown",
   "metadata": {},
   "source": [
    "### Inciso 4"
   ]
  },
  {
   "cell_type": "code",
   "execution_count": 8,
   "metadata": {},
   "outputs": [
    {
     "name": "stdout",
     "output_type": "stream",
     "text": [
      "Luna de xelajú\n"
     ]
    }
   ],
   "source": [
    "print(base64_to_text(eje5_base64))"
   ]
  },
  {
   "cell_type": "code",
   "execution_count": 9,
   "metadata": {},
   "outputs": [
    {
     "name": "stdout",
     "output_type": "stream",
     "text": [
      "Diego Morales\n"
     ]
    }
   ],
   "source": [
    "print(base64_to_text(eje6_base64))"
   ]
  },
  {
   "cell_type": "markdown",
   "metadata": {},
   "source": [
    "# Inciso 5"
   ]
  },
  {
   "cell_type": "code",
   "execution_count": 10,
   "metadata": {},
   "outputs": [
    {
     "name": "stdout",
     "output_type": "stream",
     "text": [
      "0100010101110011011101000110010100100000011001010111001100100000011101010110111000100000011011010110010101101110011100110110000101101010011001010010000001110011011001010000000000011110000001000000001000001010\n"
     ]
    }
   ],
   "source": [
    "text = \"Este es un mensaje secreto\"\n",
    "key = \"clave\"\n",
    "text_bin = text_to_binary(text)\n",
    "key_bin = text_to_binary(key)\n",
    "\n",
    "cipher = xor_binary_strings(text_bin, key_bin)\n",
    "print(cipher)"
   ]
  },
  {
   "cell_type": "code",
   "execution_count": 11,
   "metadata": {},
   "outputs": [
    {
     "name": "stdout",
     "output_type": "stream",
     "text": [
      "Este es un mensaje secreto\n"
     ]
    }
   ],
   "source": [
    "decypher = xor_binary_strings(cipher, key_bin)\n",
    "print(binary_to_text(decypher))"
   ]
  }
 ],
 "metadata": {
  "kernelspec": {
   "display_name": "Python 3",
   "language": "python",
   "name": "python3"
  },
  "language_info": {
   "codemirror_mode": {
    "name": "ipython",
    "version": 3
   },
   "file_extension": ".py",
   "mimetype": "text/x-python",
   "name": "python",
   "nbconvert_exporter": "python",
   "pygments_lexer": "ipython3",
   "version": "3.13.1"
  }
 },
 "nbformat": 4,
 "nbformat_minor": 2
}
