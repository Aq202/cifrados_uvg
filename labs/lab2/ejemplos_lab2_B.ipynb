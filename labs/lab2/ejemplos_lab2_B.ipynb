{
 "cells": [
  {
   "cell_type": "markdown",
   "metadata": {},
   "source": [
    "# Lab 2 - B\n",
    "\n",
    "Diego Andrés Morales Aquino\n",
    "21762"
   ]
  },
  {
   "cell_type": "code",
   "execution_count": 1,
   "metadata": {},
   "outputs": [],
   "source": [
    "from xor import xor_ascii_strings, xor_binary_strings\n",
    "from image_base64 import image_to_base64, base64_to_image\n",
    "from ascii_binary import text_to_binary\n",
    "from binary_base64 import base64_to_binary\n",
    "from binary_base64 import binary_to_base64"
   ]
  },
  {
   "cell_type": "markdown",
   "metadata": {},
   "source": [
    "### 1. XOR, bit a bit, con dos cadenas de texto"
   ]
  },
  {
   "cell_type": "code",
   "execution_count": 2,
   "metadata": {},
   "outputs": [
    {
     "name": "stdout",
     "output_type": "stream",
     "text": [
      "XOR:  01101000011011110110110001100001001000000000111000011001000011110001001000001010\n"
     ]
    }
   ],
   "source": [
    "text1 = \"hola mundo\"\n",
    "text2 = \"clave\"\n",
    "\n",
    "print(\"XOR: \", xor_ascii_strings(text1, text2))"
   ]
  },
  {
   "cell_type": "markdown",
   "metadata": {},
   "source": [
    "### 2. Dada la imagen XOR_Imagen, y la llave “cifrados_2025” encontrar el valor original de la imagen."
   ]
  },
  {
   "cell_type": "code",
   "execution_count": 3,
   "metadata": {},
   "outputs": [],
   "source": [
    "image = \"imagen_xor.png\"\n",
    "key = \"cifrados_2025\"\n",
    "\n",
    "# Leer img como base 64\n",
    "image_b64 = image_to_base64(image)\n",
    "\n",
    "# Convertir a bin\n",
    "key_bytes = text_to_binary(key)\n",
    "image_bytes = base64_to_binary(image_b64)\n",
    "\n",
    "# Verificar que la llave tenga el mismo tamaño que la imagen\n",
    "if len(image_bytes) > len(key_bytes):\n",
    "    # Si la clave es más corta, repetirla\n",
    "    key_bytes = (key_bytes * (len(image_bytes) // len(key_bytes) + 1))[:len(image_bytes)]\n",
    "\n",
    "# XOR\n",
    "result = xor_binary_strings(image_bytes, key_bytes)\n",
    "\n",
    "# resultado a base64\n",
    "result_b64 = binary_to_base64(result)\n",
    "\n",
    "base64_to_image(result_b64, \"results_xor/result_decypher_xor_texto.png\")"
   ]
  },
  {
   "cell_type": "markdown",
   "metadata": {},
   "source": [
    "### 3. Investigar porque al aplicar XOR con una llave de texto la imagén se corrompe.\n",
    "\n",
    "Los formatos de imágenes describen la estructura en la que se almacenan los datos relacionados con la imagen. Dichos datos pueden almacenarse en formato comprimido, sin comprimir o vectorial. Cuando se aplica una operación XOR a una imagen, se alteran las estructuras específicas que deben de mantenerse para que el archivo sea legible. Por ejemplo, archivos de tipo PNG o JPG tienen encabezados con metadatos sobre el formato, resolución, etc. Cuando se aplica un XOR dichas cadenas se modifican a datos pseudoaleatorios que no pueden ser reconocidos. Además, se pierden ciertos patrones vitales para algoritmos de compresión de imágenes, dado que XOR introduce cambios que rompe la estructura y los hace irreconocibles.\n",
    "\n",
    "GeeoksForGeeks. (2024). Formatos de imagen. Retrieved from https://www.geeksforgeeks.org/image-formats/\n",
    "\n"
   ]
  },
  {
   "cell_type": "markdown",
   "metadata": {},
   "source": [
    "### 4. Investigar como aplicar un xor a 2 imágenes. Para esto deben de eleccionar 2 imágenes, luego proceder hacer un xor entre las dos imágenes. Esto significa que una imagen es la original y la otra se utilizará como llave para aplicar el xor."
   ]
  },
  {
   "cell_type": "markdown",
   "metadata": {},
   "source": [
    "El procedimiento consiste en cargar dos imágenes en formato RGB, asegurando que tengan el mismo tamaño al redimensionar la segunda imagen según las dimensiones de la primera (o viceversa). Luego, se convierten en arreglos NumPy para manipular sus datos de píxeles a nivel de bits. Se aplica la operación XOR bit a bit entre los valores de los píxeles de ambas imágenes en cada canal de color (rgb). Finalmente, el resultado se convierte de nuevo en una imagen, visualizando el resultado."
   ]
  },
  {
   "cell_type": "code",
   "execution_count": 4,
   "metadata": {},
   "outputs": [],
   "source": [
    "from PIL import Image\n",
    "import numpy as np\n",
    "\n",
    "# Cargar img en rg\n",
    "img1 = Image.open(\"imagen3.jpg\").convert(\"RGB\")\n",
    "img2 = Image.open(\"imagen4.jpg\").convert(\"RGB\")\n",
    "\n",
    "# Redimensionar imágen para que tengan el mismo tamaño\n",
    "img2 = img2.resize(img1.size)\n",
    "\n",
    "array1 = np.array(img1)\n",
    "array2 = np.array(img2)\n",
    "\n",
    "# xor entre las imagenes a nivel de bits para cada canal de color\n",
    "xor_result = np.bitwise_xor(array1, array2)\n",
    "\n",
    "res = Image.fromarray(xor_result)\n",
    "\n",
    "res.save(\"results_xor/result_xor_imagenes.jpg\")\n",
    "res.show()\n"
   ]
  },
  {
   "cell_type": "markdown",
   "metadata": {},
   "source": [
    "Uno de los principales inconvenientes que encontré al realizar la operación XOR entre dos imágenes fue la necesidad de que ambas tuvieran el mismo tamaño. Cuando las dimensiones variaban, no era posible realizar la operación correctamente, ya que no existía una correspondencia exacta entre los datos de ambas imágenes. Por otro lado, al ser imágenes a color, mis imágenes se corrompían, pues no operaba cada canal de color por separado, lo que generaba que se alterara la estructura de la imagen. También, fue importante asegurarme que ambas imágenes estuvieran en RGB y fueran del mismo tipo de archivo para evitar resultados inesperados."
   ]
  }
 ],
 "metadata": {
  "kernelspec": {
   "display_name": "Python 3",
   "language": "python",
   "name": "python3"
  },
  "language_info": {
   "codemirror_mode": {
    "name": "ipython",
    "version": 3
   },
   "file_extension": ".py",
   "mimetype": "text/x-python",
   "name": "python",
   "nbconvert_exporter": "python",
   "pygments_lexer": "ipython3",
   "version": "3.13.1"
  }
 },
 "nbformat": 4,
 "nbformat_minor": 2
}
