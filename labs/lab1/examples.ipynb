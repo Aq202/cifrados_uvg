{
 "cells": [
  {
   "cell_type": "markdown",
   "metadata": {},
   "source": [
    "# Ejemplos de ejecución - Lab 1\n",
    "\n",
    "Diego Andrés Morales Aquino\n",
    "21762"
   ]
  },
  {
   "cell_type": "code",
   "execution_count": 1,
   "metadata": {},
   "outputs": [],
   "source": [
    "from caesar_cypher import *\n",
    "from afines_cypher import *\n",
    "from vigenere_cypher import *"
   ]
  },
  {
   "cell_type": "markdown",
   "metadata": {},
   "source": [
    "## Parte A"
   ]
  },
  {
   "cell_type": "markdown",
   "metadata": {},
   "source": [
    "### Cifrado Caesar"
   ]
  },
  {
   "cell_type": "code",
   "execution_count": 2,
   "metadata": {},
   "outputs": [
    {
     "name": "stdout",
     "output_type": "stream",
     "text": [
      "Texto cifrado:  dwdfdu dñ dodphfhu\n",
      "Texto decifrado:  atacar al amanecer\n"
     ]
    }
   ],
   "source": [
    "text = \"ATACAR AL AMANECER\"\n",
    "cypher_text = caesar_cypher(text)\n",
    "print(\"Texto cifrado: \", cypher_text)\n",
    "print(\"Texto decifrado: \", caesar_decypher(cypher_text))"
   ]
  },
  {
   "cell_type": "markdown",
   "metadata": {},
   "source": [
    "### Cifrado Afines"
   ]
  },
  {
   "cell_type": "code",
   "execution_count": 2,
   "metadata": {},
   "outputs": [
    {
     "name": "stdout",
     "output_type": "stream",
     "text": [
      "Texto cifrado:  iuimiq id ifihpmpq\n",
      "Texto decifrado:  atacar al amanecer\n"
     ]
    }
   ],
   "source": [
    "text = \"ATACAR AL AMANECER\"\n",
    "a = 2\n",
    "b = 8\n",
    "cypher_text = afines_cypher(text, a, b)\n",
    "print(\"Texto cifrado: \", cypher_text)\n",
    "print(\"Texto decifrado: \", afines_decypher(cypher_text, a, b))"
   ]
  },
  {
   "cell_type": "markdown",
   "metadata": {},
   "source": [
    "### Cifrado Vigénere"
   ]
  },
  {
   "cell_type": "code",
   "execution_count": 2,
   "metadata": {},
   "outputs": [
    {
     "name": "stdout",
     "output_type": "stream",
     "text": [
      "Texto cifrado:  YHBX D NJGG FAZ vrfaz\n",
      "Texto decifrado:  WHAT A NICE DAY today\n"
     ]
    }
   ],
   "source": [
    "text = \"WHAT A NICE DAY today\"\n",
    "key = \"cRypTO\"\n",
    "cypher_text = vigenere_cypher(text, key)\n",
    "print(\"Texto cifrado: \", cypher_text)\n",
    "print(\"Texto decifrado: \", vigenere_decypher(cypher_text, key))"
   ]
  }
 ],
 "metadata": {
  "kernelspec": {
   "display_name": "Python 3",
   "language": "python",
   "name": "python3"
  },
  "language_info": {
   "codemirror_mode": {
    "name": "ipython",
    "version": 3
   },
   "file_extension": ".py",
   "mimetype": "text/x-python",
   "name": "python",
   "nbconvert_exporter": "python",
   "pygments_lexer": "ipython3",
   "version": "3.13.1"
  }
 },
 "nbformat": 4,
 "nbformat_minor": 2
}
